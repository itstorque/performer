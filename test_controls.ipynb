{
 "cells": [
  {
   "cell_type": "code",
   "execution_count": 1,
   "metadata": {},
   "outputs": [],
   "source": [
    "import ipywidgets as widgets\n",
    "import asyncio\n",
    "from performer import *"
   ]
  },
  {
   "cell_type": "code",
   "execution_count": null,
   "metadata": {},
   "outputs": [],
   "source": [
    "async def halt(audio):\n",
    "    if asyncio.get_event_loop().run_in_executor(executor, input, prompt) == \"q\":\n",
    "        print(\"HALT\")\n",
    "        audio.halt()\n",
    "\n",
    "audio = AudioOut(fs=44100, buffer_bit_size=10, channels=1, volume=0.5)\n",
    "\n",
    "lfo1 = LFO(audio, f=1000, envelope=None)\n",
    "\n",
    "loop = asyncio.get_event_loop()\n",
    "# t = loop.create_task(audio.stream())\n",
    "asyncio.ensure_future( halt(audio) ) \n",
    "asyncio.ensure_future( audio.stream() )\n",
    "# loop.run_forever()\n"
   ]
  },
  {
   "cell_type": "code",
   "execution_count": 2,
   "metadata": {},
   "outputs": [
    {
     "ename": "NameError",
     "evalue": "name 'ainput' is not defined",
     "output_type": "error",
     "traceback": [
      "\u001b[0;31m---------------------------------------------------------------------------\u001b[0m",
      "\u001b[0;31mNameError\u001b[0m                                 Traceback (most recent call last)",
      "\u001b[1;32m/Users/torque/projects/performer/test_controls.ipynb Cell 3'\u001b[0m in \u001b[0;36m<cell line: 1>\u001b[0;34m()\u001b[0m\n\u001b[0;32m----> <a href='vscode-notebook-cell:/Users/torque/projects/performer/test_controls.ipynb#ch0000004?line=0'>1</a>\u001b[0m ainput\n",
      "\u001b[0;31mNameError\u001b[0m: name 'ainput' is not defined"
     ]
    }
   ],
   "source": [
    "ainput"
   ]
  },
  {
   "cell_type": "code",
   "execution_count": null,
   "metadata": {},
   "outputs": [],
   "source": []
  }
 ],
 "metadata": {
  "interpreter": {
   "hash": "31f2aee4e71d21fbe5cf8b01ff0e069b9275f58929596ceb00d14d90e3e16cd6"
  },
  "kernelspec": {
   "display_name": "Python 3.8.9 64-bit",
   "language": "python",
   "name": "python3"
  },
  "language_info": {
   "codemirror_mode": {
    "name": "ipython",
    "version": 3
   },
   "file_extension": ".py",
   "mimetype": "text/x-python",
   "name": "python",
   "nbconvert_exporter": "python",
   "pygments_lexer": "ipython3",
   "version": "3.8.9"
  },
  "orig_nbformat": 4
 },
 "nbformat": 4,
 "nbformat_minor": 2
}
